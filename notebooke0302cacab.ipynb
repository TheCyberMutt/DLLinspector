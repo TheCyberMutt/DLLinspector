{
 "cells": [
  {
   "cell_type": "code",
   "execution_count": 1,
   "id": "33c65073",
   "metadata": {
    "_cell_guid": "b1076dfc-b9ad-4769-8c92-a6c4dae69d19",
    "_uuid": "8f2839f25d086af736a60e9eeb907d3b93b6e0e5",
    "execution": {
     "iopub.execute_input": "2022-08-19T02:47:44.851791Z",
     "iopub.status.busy": "2022-08-19T02:47:44.850709Z",
     "iopub.status.idle": "2022-08-19T02:47:45.894161Z",
     "shell.execute_reply": "2022-08-19T02:47:45.893544Z",
     "shell.execute_reply.started": "2022-08-19T02:44:13.339700Z"
    },
    "papermill": {
     "duration": 1.080879,
     "end_time": "2022-08-19T02:47:45.894346",
     "exception": false,
     "start_time": "2022-08-19T02:47:44.813467",
     "status": "completed"
    },
    "tags": []
   },
   "outputs": [
    {
     "name": "stdout",
     "output_type": "stream",
     "text": [
      "/kaggle/input/dll-logs/dll_logs.csv\n"
     ]
    }
   ],
   "source": [
    "# This Python 3 environment comes with many helpful analytics libraries installed\n",
    "# It is defined by the kaggle/python Docker image: https://github.com/kaggle/docker-python\n",
    "# For example, here's several helpful packages to load\n",
    "\n",
    "import numpy as np # linear algebra\n",
    "import pandas as pd# data processing, CSV file I/O (e.g. pd.read_csv)\n",
    "pd.plotting.register_matplotlib_converters()\n",
    "import matplotlib.pyplot as plt\n",
    "%matplotlib inline\n",
    "import seaborn as sns\n",
    "import datetime\n",
    "# Input data files are available in the read-only \"../input/\" directory\n",
    "# For example, running this (by clicking run or pressing Shift+Enter) will list all files under the input directory\n",
    "\n",
    "import os\n",
    "for dirname, _, filenames in os.walk('/kaggle/input'):\n",
    "    for filename in filenames:\n",
    "        print(os.path.join(dirname, filename))\n",
    "\n",
    "# You can write up to 20GB to the current directory (/kaggle/working/) that gets preserved as output when you create a version using \"Save & Run All\" \n",
    "# You can also write temporary files to /kaggle/temp/, but they won't be saved outside of the current session"
   ]
  },
  {
   "cell_type": "markdown",
   "id": "49488793",
   "metadata": {
    "papermill": {
     "duration": 0.023427,
     "end_time": "2022-08-19T02:47:45.945086",
     "exception": false,
     "start_time": "2022-08-19T02:47:45.921659",
     "status": "completed"
    },
    "tags": []
   },
   "source": [
    "Store file path in a variable to use when converting file to Dataframe"
   ]
  },
  {
   "cell_type": "code",
   "execution_count": 2,
   "id": "c7cbff5d",
   "metadata": {
    "execution": {
     "iopub.execute_input": "2022-08-19T02:47:45.997638Z",
     "iopub.status.busy": "2022-08-19T02:47:45.996942Z",
     "iopub.status.idle": "2022-08-19T02:47:46.247471Z",
     "shell.execute_reply": "2022-08-19T02:47:46.247999Z",
     "shell.execute_reply.started": "2022-08-19T02:44:13.370462Z"
    },
    "papermill": {
     "duration": 0.278976,
     "end_time": "2022-08-19T02:47:46.248177",
     "exception": false,
     "start_time": "2022-08-19T02:47:45.969201",
     "status": "completed"
    },
    "tags": []
   },
   "outputs": [
    {
     "data": {
      "text/html": [
       "<div>\n",
       "<style scoped>\n",
       "    .dataframe tbody tr th:only-of-type {\n",
       "        vertical-align: middle;\n",
       "    }\n",
       "\n",
       "    .dataframe tbody tr th {\n",
       "        vertical-align: top;\n",
       "    }\n",
       "\n",
       "    .dataframe thead th {\n",
       "        text-align: right;\n",
       "    }\n",
       "</style>\n",
       "<table border=\"1\" class=\"dataframe\">\n",
       "  <thead>\n",
       "    <tr style=\"text-align: right;\">\n",
       "      <th></th>\n",
       "      <th>FullName</th>\n",
       "      <th>CreationTime</th>\n",
       "      <th>LastWriteTime</th>\n",
       "      <th>Length</th>\n",
       "    </tr>\n",
       "  </thead>\n",
       "  <tbody>\n",
       "    <tr>\n",
       "      <th>0</th>\n",
       "      <td>C:\\Program Files\\Adobe\\Adobe Creative Cloud\\AC...</td>\n",
       "      <td>5/6/2021 6:41:43 AM</td>\n",
       "      <td>5/6/2021 6:41:43 AM</td>\n",
       "      <td>443056</td>\n",
       "    </tr>\n",
       "    <tr>\n",
       "      <th>1</th>\n",
       "      <td>C:\\Program Files\\Adobe\\Adobe Creative Cloud\\CC...</td>\n",
       "      <td>5/6/2021 6:41:43 AM</td>\n",
       "      <td>5/6/2021 6:41:43 AM</td>\n",
       "      <td>966328</td>\n",
       "    </tr>\n",
       "    <tr>\n",
       "      <th>2</th>\n",
       "      <td>C:\\Program Files\\Adobe\\Adobe Creative Cloud\\Ex...</td>\n",
       "      <td>5/6/2021 6:41:43 AM</td>\n",
       "      <td>4/21/2021 9:04:53 PM</td>\n",
       "      <td>200880</td>\n",
       "    </tr>\n",
       "    <tr>\n",
       "      <th>3</th>\n",
       "      <td>C:\\Program Files\\Adobe\\Adobe Creative Cloud\\Ex...</td>\n",
       "      <td>5/6/2021 6:41:43 AM</td>\n",
       "      <td>4/21/2021 9:04:53 PM</td>\n",
       "      <td>23210680</td>\n",
       "    </tr>\n",
       "    <tr>\n",
       "      <th>4</th>\n",
       "      <td>C:\\Program Files\\Adobe\\Adobe Creative Cloud\\Ex...</td>\n",
       "      <td>5/6/2021 6:41:43 AM</td>\n",
       "      <td>4/21/2021 9:04:53 PM</td>\n",
       "      <td>511672</td>\n",
       "    </tr>\n",
       "    <tr>\n",
       "      <th>5</th>\n",
       "      <td>C:\\Program Files\\Adobe\\Adobe Creative Cloud Ex...</td>\n",
       "      <td>5/5/2021 6:26:55 AM</td>\n",
       "      <td>5/5/2021 6:26:55 AM</td>\n",
       "      <td>221976</td>\n",
       "    </tr>\n",
       "    <tr>\n",
       "      <th>6</th>\n",
       "      <td>C:\\Program Files\\Adobe\\Adobe Creative Cloud Ex...</td>\n",
       "      <td>5/5/2021 6:26:55 AM</td>\n",
       "      <td>5/5/2021 6:26:55 AM</td>\n",
       "      <td>129304</td>\n",
       "    </tr>\n",
       "    <tr>\n",
       "      <th>7</th>\n",
       "      <td>C:\\Program Files\\Adobe\\Adobe Creative Cloud Ex...</td>\n",
       "      <td>5/5/2021 6:26:55 AM</td>\n",
       "      <td>5/5/2021 6:26:55 AM</td>\n",
       "      <td>1300248</td>\n",
       "    </tr>\n",
       "    <tr>\n",
       "      <th>8</th>\n",
       "      <td>C:\\Program Files\\Adobe\\Adobe Creative Cloud Ex...</td>\n",
       "      <td>5/5/2021 6:26:55 AM</td>\n",
       "      <td>5/5/2021 6:26:55 AM</td>\n",
       "      <td>909592</td>\n",
       "    </tr>\n",
       "    <tr>\n",
       "      <th>9</th>\n",
       "      <td>C:\\Program Files\\Adobe\\Adobe Creative Cloud Ex...</td>\n",
       "      <td>5/5/2021 6:26:55 AM</td>\n",
       "      <td>5/5/2021 6:26:55 AM</td>\n",
       "      <td>656664</td>\n",
       "    </tr>\n",
       "  </tbody>\n",
       "</table>\n",
       "</div>"
      ],
      "text/plain": [
       "                                            FullName         CreationTime  \\\n",
       "0  C:\\Program Files\\Adobe\\Adobe Creative Cloud\\AC...  5/6/2021 6:41:43 AM   \n",
       "1  C:\\Program Files\\Adobe\\Adobe Creative Cloud\\CC...  5/6/2021 6:41:43 AM   \n",
       "2  C:\\Program Files\\Adobe\\Adobe Creative Cloud\\Ex...  5/6/2021 6:41:43 AM   \n",
       "3  C:\\Program Files\\Adobe\\Adobe Creative Cloud\\Ex...  5/6/2021 6:41:43 AM   \n",
       "4  C:\\Program Files\\Adobe\\Adobe Creative Cloud\\Ex...  5/6/2021 6:41:43 AM   \n",
       "5  C:\\Program Files\\Adobe\\Adobe Creative Cloud Ex...  5/5/2021 6:26:55 AM   \n",
       "6  C:\\Program Files\\Adobe\\Adobe Creative Cloud Ex...  5/5/2021 6:26:55 AM   \n",
       "7  C:\\Program Files\\Adobe\\Adobe Creative Cloud Ex...  5/5/2021 6:26:55 AM   \n",
       "8  C:\\Program Files\\Adobe\\Adobe Creative Cloud Ex...  5/5/2021 6:26:55 AM   \n",
       "9  C:\\Program Files\\Adobe\\Adobe Creative Cloud Ex...  5/5/2021 6:26:55 AM   \n",
       "\n",
       "          LastWriteTime    Length  \n",
       "0   5/6/2021 6:41:43 AM    443056  \n",
       "1   5/6/2021 6:41:43 AM    966328  \n",
       "2  4/21/2021 9:04:53 PM    200880  \n",
       "3  4/21/2021 9:04:53 PM  23210680  \n",
       "4  4/21/2021 9:04:53 PM    511672  \n",
       "5   5/5/2021 6:26:55 AM    221976  \n",
       "6   5/5/2021 6:26:55 AM    129304  \n",
       "7   5/5/2021 6:26:55 AM   1300248  \n",
       "8   5/5/2021 6:26:55 AM    909592  \n",
       "9   5/5/2021 6:26:55 AM    656664  "
      ]
     },
     "execution_count": 2,
     "metadata": {},
     "output_type": "execute_result"
    }
   ],
   "source": [
    "url_path = \"../input/dll-logs/dll_logs.csv\"\n",
    "\n",
    "dll_logs = pd.read_csv(url_path)\n",
    "\n",
    "dll_logs.head(10) \n",
    "#Shows Columns and first 10 rows of data "
   ]
  },
  {
   "cell_type": "markdown",
   "id": "d4bdddfa",
   "metadata": {
    "papermill": {
     "duration": 0.023585,
     "end_time": "2022-08-19T02:47:46.295744",
     "exception": false,
     "start_time": "2022-08-19T02:47:46.272159",
     "status": "completed"
    },
    "tags": []
   },
   "source": [
    "To ensure that we avoid using duplicate entries, we group them by their full path name."
   ]
  },
  {
   "cell_type": "code",
   "execution_count": 3,
   "id": "7b6c9311",
   "metadata": {
    "execution": {
     "iopub.execute_input": "2022-08-19T02:47:46.347227Z",
     "iopub.status.busy": "2022-08-19T02:47:46.346241Z",
     "iopub.status.idle": "2022-08-19T02:47:46.442453Z",
     "shell.execute_reply": "2022-08-19T02:47:46.442982Z",
     "shell.execute_reply.started": "2022-08-19T02:44:13.523018Z"
    },
    "papermill": {
     "duration": 0.123623,
     "end_time": "2022-08-19T02:47:46.443158",
     "exception": false,
     "start_time": "2022-08-19T02:47:46.319535",
     "status": "completed"
    },
    "tags": []
   },
   "outputs": [
    {
     "data": {
      "text/plain": [
       "FullName\n",
       "C:\\Program Files (x86)\\Adobe\\Adobe Creative Cloud\\Utils\\npAdobeAAMDetect32.dll                                                     1\n",
       "C:\\Windows\\WinSxS\\amd64_microsoft-onecore-codeintegrity-secure_31bf3856ad364e35_10.0.22000.434_none_8c43b0ca0d905272\\f\\skci.dll    1\n",
       "C:\\Windows\\WinSxS\\amd64_microsoft-onecore-codeintegrity-secure_31bf3856ad364e35_10.0.22000.434_none_8c43b0ca0d905272\\r\\skci.dll    1\n",
       "C:\\Windows\\WinSxS\\amd64_microsoft-onecore-codeintegrity-secure_31bf3856ad364e35_10.0.22000.434_none_8c43b0ca0d905272\\skci.dll      1\n",
       "C:\\Windows\\WinSxS\\amd64_microsoft-onecore-codeintegrity-secure_31bf3856ad364e35_10.0.22000.469_none_8c2842780da424f8\\f\\skci.dll    1\n",
       "                                                                                                                                  ..\n",
       "C:\\Program Files\\Git\\usr\\lib\\perl5\\vendor_perl\\auto\\SVN\\_Client\\_Client.dll                                                        1\n",
       "C:\\Program Files\\Git\\usr\\lib\\perl5\\vendor_perl\\auto\\SVN\\_Core\\_Core.dll                                                            1\n",
       "C:\\Program Files\\Git\\usr\\lib\\perl5\\vendor_perl\\auto\\SVN\\_Delta\\_Delta.dll                                                          1\n",
       "C:\\Program Files\\Git\\usr\\lib\\perl5\\core_perl\\auto\\attributes\\attributes.dll                                                        1\n",
       "C:\\Windows\\twain_32.dll                                                                                                            1\n",
       "Name: FullName, Length: 51537, dtype: int64"
      ]
     },
     "execution_count": 3,
     "metadata": {},
     "output_type": "execute_result"
    }
   ],
   "source": [
    "Paths = dll_logs.groupby(\"FullName\").FullName.count()\n",
    "Paths.sort_values()\n"
   ]
  },
  {
   "cell_type": "markdown",
   "id": "5294609c",
   "metadata": {
    "papermill": {
     "duration": 0.023658,
     "end_time": "2022-08-19T02:47:46.491018",
     "exception": false,
     "start_time": "2022-08-19T02:47:46.467360",
     "status": "completed"
    },
    "tags": []
   },
   "source": [
    "We then split the full path into individual folder, file, program, etc.. to analyze frequency. "
   ]
  },
  {
   "cell_type": "code",
   "execution_count": 4,
   "id": "75157d0f",
   "metadata": {
    "execution": {
     "iopub.execute_input": "2022-08-19T02:47:46.542457Z",
     "iopub.status.busy": "2022-08-19T02:47:46.541811Z",
     "iopub.status.idle": "2022-08-19T02:47:46.840018Z",
     "shell.execute_reply": "2022-08-19T02:47:46.839456Z",
     "shell.execute_reply.started": "2022-08-19T02:44:13.617529Z"
    },
    "papermill": {
     "duration": 0.325123,
     "end_time": "2022-08-19T02:47:46.840186",
     "exception": false,
     "start_time": "2022-08-19T02:47:46.515063",
     "status": "completed"
    },
    "tags": []
   },
   "outputs": [
    {
     "data": {
      "text/html": [
       "<div>\n",
       "<style scoped>\n",
       "    .dataframe tbody tr th:only-of-type {\n",
       "        vertical-align: middle;\n",
       "    }\n",
       "\n",
       "    .dataframe tbody tr th {\n",
       "        vertical-align: top;\n",
       "    }\n",
       "\n",
       "    .dataframe thead th {\n",
       "        text-align: right;\n",
       "    }\n",
       "</style>\n",
       "<table border=\"1\" class=\"dataframe\">\n",
       "  <thead>\n",
       "    <tr style=\"text-align: right;\">\n",
       "      <th></th>\n",
       "      <th>0</th>\n",
       "      <th>1</th>\n",
       "      <th>2</th>\n",
       "      <th>3</th>\n",
       "      <th>4</th>\n",
       "      <th>5</th>\n",
       "      <th>6</th>\n",
       "      <th>7</th>\n",
       "      <th>8</th>\n",
       "      <th>9</th>\n",
       "      <th>10</th>\n",
       "      <th>11</th>\n",
       "      <th>12</th>\n",
       "      <th>13</th>\n",
       "      <th>14</th>\n",
       "      <th>15</th>\n",
       "      <th>16</th>\n",
       "    </tr>\n",
       "  </thead>\n",
       "  <tbody>\n",
       "    <tr>\n",
       "      <th>34970</th>\n",
       "      <td>C:</td>\n",
       "      <td>Windows</td>\n",
       "      <td>TempInst</td>\n",
       "      <td>.net</td>\n",
       "      <td>installer</td>\n",
       "      <td>3ninmlrq.n00</td>\n",
       "      <td>fr</td>\n",
       "      <td>WindowsFormsIntegration.resources.dll</td>\n",
       "      <td>None</td>\n",
       "      <td>None</td>\n",
       "      <td>None</td>\n",
       "      <td>None</td>\n",
       "      <td>None</td>\n",
       "      <td>None</td>\n",
       "      <td>None</td>\n",
       "      <td>None</td>\n",
       "      <td>None</td>\n",
       "    </tr>\n",
       "    <tr>\n",
       "      <th>15083</th>\n",
       "      <td>C:</td>\n",
       "      <td>Program Files (x86)</td>\n",
       "      <td>Microsoft Visual Studio</td>\n",
       "      <td>2019</td>\n",
       "      <td>Community</td>\n",
       "      <td>Common7</td>\n",
       "      <td>IDE</td>\n",
       "      <td>Extensions</td>\n",
       "      <td>xjyqcfhk.anw</td>\n",
       "      <td>it</td>\n",
       "      <td>Microsoft.VisualStudio.Docker.DotNetCore.resou...</td>\n",
       "      <td>None</td>\n",
       "      <td>None</td>\n",
       "      <td>None</td>\n",
       "      <td>None</td>\n",
       "      <td>None</td>\n",
       "      <td>None</td>\n",
       "    </tr>\n",
       "    <tr>\n",
       "      <th>17750</th>\n",
       "      <td>C:</td>\n",
       "      <td>Program Files (x86)</td>\n",
       "      <td>Microsoft Visual Studio</td>\n",
       "      <td>Installer</td>\n",
       "      <td>resources</td>\n",
       "      <td>app</td>\n",
       "      <td>ServiceHub</td>\n",
       "      <td>Services</td>\n",
       "      <td>Microsoft.Developer.IdentityService</td>\n",
       "      <td>zh-Hant</td>\n",
       "      <td>Microsoft.ServiceHub.Resources.dll</td>\n",
       "      <td>None</td>\n",
       "      <td>None</td>\n",
       "      <td>None</td>\n",
       "      <td>None</td>\n",
       "      <td>None</td>\n",
       "      <td>None</td>\n",
       "    </tr>\n",
       "    <tr>\n",
       "      <th>50480</th>\n",
       "      <td>C:</td>\n",
       "      <td>Windows</td>\n",
       "      <td>WinSxS</td>\n",
       "      <td>wow64_presentationcore_31bf3856ad364e35_4.0.15...</td>\n",
       "      <td>PresentationCore.dll</td>\n",
       "      <td>None</td>\n",
       "      <td>None</td>\n",
       "      <td>None</td>\n",
       "      <td>None</td>\n",
       "      <td>None</td>\n",
       "      <td>None</td>\n",
       "      <td>None</td>\n",
       "      <td>None</td>\n",
       "      <td>None</td>\n",
       "      <td>None</td>\n",
       "      <td>None</td>\n",
       "      <td>None</td>\n",
       "    </tr>\n",
       "    <tr>\n",
       "      <th>7444</th>\n",
       "      <td>C:</td>\n",
       "      <td>Program Files (x86)</td>\n",
       "      <td>Microsoft</td>\n",
       "      <td>EdgeWebView</td>\n",
       "      <td>Application</td>\n",
       "      <td>97.0.1072.76</td>\n",
       "      <td>wns_push_client.dll</td>\n",
       "      <td>None</td>\n",
       "      <td>None</td>\n",
       "      <td>None</td>\n",
       "      <td>None</td>\n",
       "      <td>None</td>\n",
       "      <td>None</td>\n",
       "      <td>None</td>\n",
       "      <td>None</td>\n",
       "      <td>None</td>\n",
       "      <td>None</td>\n",
       "    </tr>\n",
       "    <tr>\n",
       "      <th>36486</th>\n",
       "      <td>C:</td>\n",
       "      <td>Windows</td>\n",
       "      <td>WinSxS</td>\n",
       "      <td>amd64_microsoft-onecore-u..latform-updateagent...</td>\n",
       "      <td>r</td>\n",
       "      <td>UpdateAgent.dll</td>\n",
       "      <td>None</td>\n",
       "      <td>None</td>\n",
       "      <td>None</td>\n",
       "      <td>None</td>\n",
       "      <td>None</td>\n",
       "      <td>None</td>\n",
       "      <td>None</td>\n",
       "      <td>None</td>\n",
       "      <td>None</td>\n",
       "      <td>None</td>\n",
       "      <td>None</td>\n",
       "    </tr>\n",
       "    <tr>\n",
       "      <th>40655</th>\n",
       "      <td>C:</td>\n",
       "      <td>Windows</td>\n",
       "      <td>WinSxS</td>\n",
       "      <td>amd64_microsoft-windows-migrationengine_31bf38...</td>\n",
       "      <td>r</td>\n",
       "      <td>migcore.dll</td>\n",
       "      <td>None</td>\n",
       "      <td>None</td>\n",
       "      <td>None</td>\n",
       "      <td>None</td>\n",
       "      <td>None</td>\n",
       "      <td>None</td>\n",
       "      <td>None</td>\n",
       "      <td>None</td>\n",
       "      <td>None</td>\n",
       "      <td>None</td>\n",
       "      <td>None</td>\n",
       "    </tr>\n",
       "    <tr>\n",
       "      <th>37188</th>\n",
       "      <td>C:</td>\n",
       "      <td>Windows</td>\n",
       "      <td>WinSxS</td>\n",
       "      <td>amd64_microsoft-windows-bcp47languages_31bf385...</td>\n",
       "      <td>BCP47Langs.dll</td>\n",
       "      <td>None</td>\n",
       "      <td>None</td>\n",
       "      <td>None</td>\n",
       "      <td>None</td>\n",
       "      <td>None</td>\n",
       "      <td>None</td>\n",
       "      <td>None</td>\n",
       "      <td>None</td>\n",
       "      <td>None</td>\n",
       "      <td>None</td>\n",
       "      <td>None</td>\n",
       "      <td>None</td>\n",
       "    </tr>\n",
       "    <tr>\n",
       "      <th>46090</th>\n",
       "      <td>C:</td>\n",
       "      <td>Windows</td>\n",
       "      <td>WinSxS</td>\n",
       "      <td>msil_microsoft.security...ymanagement.cmdlets_...</td>\n",
       "      <td>Microsoft.Security.ApplicationId.PolicyManagem...</td>\n",
       "      <td>None</td>\n",
       "      <td>None</td>\n",
       "      <td>None</td>\n",
       "      <td>None</td>\n",
       "      <td>None</td>\n",
       "      <td>None</td>\n",
       "      <td>None</td>\n",
       "      <td>None</td>\n",
       "      <td>None</td>\n",
       "      <td>None</td>\n",
       "      <td>None</td>\n",
       "      <td>None</td>\n",
       "    </tr>\n",
       "    <tr>\n",
       "      <th>335</th>\n",
       "      <td>C:</td>\n",
       "      <td>Program Files</td>\n",
       "      <td>Adobe</td>\n",
       "      <td>Adobe Media Encoder 2021</td>\n",
       "      <td>VulcanControl.dll</td>\n",
       "      <td>None</td>\n",
       "      <td>None</td>\n",
       "      <td>None</td>\n",
       "      <td>None</td>\n",
       "      <td>None</td>\n",
       "      <td>None</td>\n",
       "      <td>None</td>\n",
       "      <td>None</td>\n",
       "      <td>None</td>\n",
       "      <td>None</td>\n",
       "      <td>None</td>\n",
       "      <td>None</td>\n",
       "    </tr>\n",
       "  </tbody>\n",
       "</table>\n",
       "</div>"
      ],
      "text/plain": [
       "       0                    1                        2   \\\n",
       "34970  C:              Windows                 TempInst   \n",
       "15083  C:  Program Files (x86)  Microsoft Visual Studio   \n",
       "17750  C:  Program Files (x86)  Microsoft Visual Studio   \n",
       "50480  C:              Windows                   WinSxS   \n",
       "7444   C:  Program Files (x86)                Microsoft   \n",
       "36486  C:              Windows                   WinSxS   \n",
       "40655  C:              Windows                   WinSxS   \n",
       "37188  C:              Windows                   WinSxS   \n",
       "46090  C:              Windows                   WinSxS   \n",
       "335    C:        Program Files                    Adobe   \n",
       "\n",
       "                                                      3   \\\n",
       "34970                                               .net   \n",
       "15083                                               2019   \n",
       "17750                                          Installer   \n",
       "50480  wow64_presentationcore_31bf3856ad364e35_4.0.15...   \n",
       "7444                                         EdgeWebView   \n",
       "36486  amd64_microsoft-onecore-u..latform-updateagent...   \n",
       "40655  amd64_microsoft-windows-migrationengine_31bf38...   \n",
       "37188  amd64_microsoft-windows-bcp47languages_31bf385...   \n",
       "46090  msil_microsoft.security...ymanagement.cmdlets_...   \n",
       "335                             Adobe Media Encoder 2021   \n",
       "\n",
       "                                                      4                5   \\\n",
       "34970                                          installer     3ninmlrq.n00   \n",
       "15083                                          Community          Common7   \n",
       "17750                                          resources              app   \n",
       "50480                               PresentationCore.dll             None   \n",
       "7444                                         Application     97.0.1072.76   \n",
       "36486                                                  r  UpdateAgent.dll   \n",
       "40655                                                  r      migcore.dll   \n",
       "37188                                     BCP47Langs.dll             None   \n",
       "46090  Microsoft.Security.ApplicationId.PolicyManagem...             None   \n",
       "335                                    VulcanControl.dll             None   \n",
       "\n",
       "                        6                                      7   \\\n",
       "34970                   fr  WindowsFormsIntegration.resources.dll   \n",
       "15083                  IDE                             Extensions   \n",
       "17750           ServiceHub                               Services   \n",
       "50480                 None                                   None   \n",
       "7444   wns_push_client.dll                                   None   \n",
       "36486                 None                                   None   \n",
       "40655                 None                                   None   \n",
       "37188                 None                                   None   \n",
       "46090                 None                                   None   \n",
       "335                   None                                   None   \n",
       "\n",
       "                                        8        9   \\\n",
       "34970                                 None     None   \n",
       "15083                         xjyqcfhk.anw       it   \n",
       "17750  Microsoft.Developer.IdentityService  zh-Hant   \n",
       "50480                                 None     None   \n",
       "7444                                  None     None   \n",
       "36486                                 None     None   \n",
       "40655                                 None     None   \n",
       "37188                                 None     None   \n",
       "46090                                 None     None   \n",
       "335                                   None     None   \n",
       "\n",
       "                                                      10    11    12    13  \\\n",
       "34970                                               None  None  None  None   \n",
       "15083  Microsoft.VisualStudio.Docker.DotNetCore.resou...  None  None  None   \n",
       "17750                 Microsoft.ServiceHub.Resources.dll  None  None  None   \n",
       "50480                                               None  None  None  None   \n",
       "7444                                                None  None  None  None   \n",
       "36486                                               None  None  None  None   \n",
       "40655                                               None  None  None  None   \n",
       "37188                                               None  None  None  None   \n",
       "46090                                               None  None  None  None   \n",
       "335                                                 None  None  None  None   \n",
       "\n",
       "         14    15    16  \n",
       "34970  None  None  None  \n",
       "15083  None  None  None  \n",
       "17750  None  None  None  \n",
       "50480  None  None  None  \n",
       "7444   None  None  None  \n",
       "36486  None  None  None  \n",
       "40655  None  None  None  \n",
       "37188  None  None  None  \n",
       "46090  None  None  None  \n",
       "335    None  None  None  "
      ]
     },
     "execution_count": 4,
     "metadata": {},
     "output_type": "execute_result"
    }
   ],
   "source": [
    "path_details = dll_logs.FullName.str.split( pat=\"\\\\\" ,expand=True)\n",
    "\n",
    "path_details.sample(10)"
   ]
  },
  {
   "cell_type": "markdown",
   "id": "9e93ec28",
   "metadata": {
    "papermill": {
     "duration": 0.025336,
     "end_time": "2022-08-19T02:47:46.892122",
     "exception": false,
     "start_time": "2022-08-19T02:47:46.866786",
     "status": "completed"
    },
    "tags": []
   },
   "source": [
    "Lets take a closer look at the frequency of the name of the programs by isolating the first unique column in the Dataframe and observing the frequency chart. "
   ]
  },
  {
   "cell_type": "code",
   "execution_count": 5,
   "id": "da2002ad",
   "metadata": {
    "execution": {
     "iopub.execute_input": "2022-08-19T02:47:46.957071Z",
     "iopub.status.busy": "2022-08-19T02:47:46.956359Z",
     "iopub.status.idle": "2022-08-19T02:47:46.968723Z",
     "shell.execute_reply": "2022-08-19T02:47:46.969216Z",
     "shell.execute_reply.started": "2022-08-19T02:44:13.998249Z"
    },
    "papermill": {
     "duration": 0.049765,
     "end_time": "2022-08-19T02:47:46.969400",
     "exception": false,
     "start_time": "2022-08-19T02:47:46.919635",
     "status": "completed"
    },
    "tags": []
   },
   "outputs": [
    {
     "data": {
      "text/plain": [
       "1\n",
       "Python39                  27\n",
       "Users                   1417\n",
       "Program Files           5838\n",
       "Program Files (x86)    16360\n",
       "Windows                27895\n",
       "Name: 1, dtype: int64"
      ]
     },
     "execution_count": 5,
     "metadata": {},
     "output_type": "execute_result"
    }
   ],
   "source": [
    "root_file = path_details.groupby(1)[1].count()\n",
    "root_file.sort_values()\n"
   ]
  },
  {
   "cell_type": "markdown",
   "id": "29b64e5b",
   "metadata": {
    "papermill": {
     "duration": 0.025203,
     "end_time": "2022-08-19T02:47:47.020596",
     "exception": false,
     "start_time": "2022-08-19T02:47:46.995393",
     "status": "completed"
    },
    "tags": []
   },
   "source": []
  },
  {
   "cell_type": "markdown",
   "id": "0b81b518",
   "metadata": {
    "papermill": {
     "duration": 0.025018,
     "end_time": "2022-08-19T02:47:47.071041",
     "exception": false,
     "start_time": "2022-08-19T02:47:47.046023",
     "status": "completed"
    },
    "tags": []
   },
   "source": [
    "Lets store the bar graph of the frequency distribution to visualize the environment a little bit easier"
   ]
  },
  {
   "cell_type": "code",
   "execution_count": 6,
   "id": "df86eed6",
   "metadata": {
    "execution": {
     "iopub.execute_input": "2022-08-19T02:47:47.125423Z",
     "iopub.status.busy": "2022-08-19T02:47:47.124789Z",
     "iopub.status.idle": "2022-08-19T02:47:47.357554Z",
     "shell.execute_reply": "2022-08-19T02:47:47.358091Z",
     "shell.execute_reply.started": "2022-08-19T02:44:14.021836Z"
    },
    "papermill": {
     "duration": 0.261587,
     "end_time": "2022-08-19T02:47:47.358277",
     "exception": false,
     "start_time": "2022-08-19T02:47:47.096690",
     "status": "completed"
    },
    "tags": []
   },
   "outputs": [
    {
     "data": {
      "text/plain": [
       "array([<AxesSubplot:title={'center':'1'}, xlabel='1'>], dtype=object)"
      ]
     },
     "execution_count": 6,
     "metadata": {},
     "output_type": "execute_result"
    },
    {
     "data": {
      "image/png": "[encoded data removed]",
      "text/plain": [
       "<Figure size 720x216 with 1 Axes>"
      ]
     },
     "metadata": {
      "needs_background": "light"
     },
     "output_type": "display_data"
    }
   ],
   "source": [
    "rootbar = root_file.plot.bar(figsize=(10,3), subplots=True)\n",
    "\n",
    "rootbar"
   ]
  },
  {
   "cell_type": "markdown",
   "id": "76a01809",
   "metadata": {
    "papermill": {
     "duration": 0.026337,
     "end_time": "2022-08-19T02:47:47.411412",
     "exception": false,
     "start_time": "2022-08-19T02:47:47.385075",
     "status": "completed"
    },
    "tags": []
   },
   "source": [
    "We are going to repeat the previous step to the next column to get a deeper look at some of the services within our distinct root folders. "
   ]
  },
  {
   "cell_type": "code",
   "execution_count": 7,
   "id": "0de16bb9",
   "metadata": {
    "execution": {
     "iopub.execute_input": "2022-08-19T02:47:47.475314Z",
     "iopub.status.busy": "2022-08-19T02:47:47.471850Z",
     "iopub.status.idle": "2022-08-19T02:47:47.488454Z",
     "shell.execute_reply": "2022-08-19T02:47:47.489053Z",
     "shell.execute_reply.started": "2022-08-19T02:44:14.260042Z"
    },
    "papermill": {
     "duration": 0.05113,
     "end_time": "2022-08-19T02:47:47.489241",
     "exception": false,
     "start_time": "2022-08-19T02:47:47.438111",
     "status": "completed"
    },
    "tags": []
   },
   "outputs": [
    {
     "data": {
      "text/plain": [
       "2\n",
       "PrintDialog                    1\n",
       "twain_32.dll                   1\n",
       "python39.dll                   1\n",
       "python3.dll                    1\n",
       "pyshellext.amd64.dll           1\n",
       "                           ...  \n",
       "SysWOW64                    2800\n",
       "dotnet                      2916\n",
       "System32                    5013\n",
       "Microsoft Visual Studio    12137\n",
       "WinSxS                     15784\n",
       "Name: 2, Length: 75, dtype: int64"
      ]
     },
     "execution_count": 7,
     "metadata": {},
     "output_type": "execute_result"
    }
   ],
   "source": [
    "services = path_details.groupby(2)[2].count()\n",
    "services_list = services.sort_values()\n",
    "services_list\n"
   ]
  },
  {
   "cell_type": "code",
   "execution_count": 8,
   "id": "ff108d25",
   "metadata": {
    "execution": {
     "iopub.execute_input": "2022-08-19T02:47:47.552644Z",
     "iopub.status.busy": "2022-08-19T02:47:47.551895Z",
     "iopub.status.idle": "2022-08-19T02:47:48.961002Z",
     "shell.execute_reply": "2022-08-19T02:47:48.961530Z",
     "shell.execute_reply.started": "2022-08-19T02:44:14.289297Z"
    },
    "papermill": {
     "duration": 1.444934,
     "end_time": "2022-08-19T02:47:48.961709",
     "exception": false,
     "start_time": "2022-08-19T02:47:47.516775",
     "status": "completed"
    },
    "tags": []
   },
   "outputs": [
    {
     "data": {
      "text/plain": [
       "array([<AxesSubplot:title={'center':'2'}, xlabel='2'>], dtype=object)"
      ]
     },
     "execution_count": 8,
     "metadata": {},
     "output_type": "execute_result"
    },
    {
     "data": {
      "image/png": "[encoded data removed]",
      "text/plain": [
       "<Figure size 864x216 with 1 Axes>"
      ]
     },
     "metadata": {
      "needs_background": "light"
     },
     "output_type": "display_data"
    }
   ],
   "source": [
    "servicesbar = services_list.plot.bar(figsize=(12,3), subplots=True)\n",
    "\n",
    "servicesbar"
   ]
  },
  {
   "cell_type": "markdown",
   "id": "824063f4",
   "metadata": {
    "papermill": {
     "duration": 0.029403,
     "end_time": "2022-08-19T02:47:49.021275",
     "exception": false,
     "start_time": "2022-08-19T02:47:48.991872",
     "status": "completed"
    },
    "tags": []
   },
   "source": [
    "Grouping it by created times and last used times will help us analyze the user activity and potentially outdated services"
   ]
  },
  {
   "cell_type": "code",
   "execution_count": 9,
   "id": "6d83186b",
   "metadata": {
    "execution": {
     "iopub.execute_input": "2022-08-19T02:47:49.083822Z",
     "iopub.status.busy": "2022-08-19T02:47:49.082866Z",
     "iopub.status.idle": "2022-08-19T02:47:49.102879Z",
     "shell.execute_reply": "2022-08-19T02:47:49.103426Z",
     "shell.execute_reply.started": "2022-08-19T02:44:15.699151Z"
    },
    "papermill": {
     "duration": 0.052859,
     "end_time": "2022-08-19T02:47:49.103621",
     "exception": false,
     "start_time": "2022-08-19T02:47:49.050762",
     "status": "completed"
    },
    "tags": []
   },
   "outputs": [
    {
     "data": {
      "text/plain": [
       "CreationTime\n",
       "1/1/2018 12:55:44 PM     1\n",
       "1/10/2019 1:51:56 PM     1\n",
       "1/10/2019 9:16:30 PM     1\n",
       "1/10/2022 7:54:08 AM     1\n",
       "1/10/2022 7:54:09 AM     1\n",
       "                        ..\n",
       "9/7/2017 11:16:52 PM    50\n",
       "9/7/2017 11:17:02 PM    19\n",
       "9/7/2017 11:17:04 PM    31\n",
       "9/7/2017 11:17:14 PM    50\n",
       "9/7/2017 11:17:32 PM    40\n",
       "Name: CreationTime, Length: 4165, dtype: int64"
      ]
     },
     "execution_count": 9,
     "metadata": {},
     "output_type": "execute_result"
    }
   ],
   "source": [
    "\n",
    "created_times = dll_logs.groupby(\"CreationTime\").CreationTime.count()\n",
    "created_times\n"
   ]
  },
  {
   "cell_type": "code",
   "execution_count": 10,
   "id": "73a61b32",
   "metadata": {
    "execution": {
     "iopub.execute_input": "2022-08-19T02:47:49.166952Z",
     "iopub.status.busy": "2022-08-19T02:47:49.166024Z",
     "iopub.status.idle": "2022-08-19T02:47:49.184691Z",
     "shell.execute_reply": "2022-08-19T02:47:49.185253Z",
     "shell.execute_reply.started": "2022-08-19T02:44:15.725193Z"
    },
    "papermill": {
     "duration": 0.052126,
     "end_time": "2022-08-19T02:47:49.185427",
     "exception": false,
     "start_time": "2022-08-19T02:47:49.133301",
     "status": "completed"
    },
    "tags": []
   },
   "outputs": [
    {
     "data": {
      "text/plain": [
       "LastWriteTime\n",
       "1/10/2019 1:51:56 PM    1\n",
       "1/10/2019 9:16:30 PM    1\n",
       "1/10/2022 7:54:08 AM    1\n",
       "1/10/2022 7:54:09 AM    1\n",
       "1/10/2022 7:54:15 AM    1\n",
       "Name: LastWriteTime, dtype: int64"
      ]
     },
     "execution_count": 10,
     "metadata": {},
     "output_type": "execute_result"
    }
   ],
   "source": [
    "lastused_time = dll_logs.groupby(\"LastWriteTime\").LastWriteTime.count()\n",
    "lastused_time.head()"
   ]
  },
  {
   "cell_type": "markdown",
   "id": "3e55d13b",
   "metadata": {
    "papermill": {
     "duration": 0.029863,
     "end_time": "2022-08-19T02:47:49.245514",
     "exception": false,
     "start_time": "2022-08-19T02:47:49.215651",
     "status": "completed"
    },
    "tags": []
   },
   "source": [
    "Taking it a step further,  we can seperate time by date, hourly time and time of day"
   ]
  },
  {
   "cell_type": "code",
   "execution_count": 11,
   "id": "d4021be7",
   "metadata": {
    "execution": {
     "iopub.execute_input": "2022-08-19T02:47:49.312100Z",
     "iopub.status.busy": "2022-08-19T02:47:49.311110Z",
     "iopub.status.idle": "2022-08-19T02:47:49.544531Z",
     "shell.execute_reply": "2022-08-19T02:47:49.543995Z",
     "shell.execute_reply.started": "2022-08-19T02:44:15.750688Z"
    },
    "papermill": {
     "duration": 0.267083,
     "end_time": "2022-08-19T02:47:49.544686",
     "exception": false,
     "start_time": "2022-08-19T02:47:49.277603",
     "status": "completed"
    },
    "tags": []
   },
   "outputs": [
    {
     "data": {
      "text/html": [
       "<div>\n",
       "<style scoped>\n",
       "    .dataframe tbody tr th:only-of-type {\n",
       "        vertical-align: middle;\n",
       "    }\n",
       "\n",
       "    .dataframe tbody tr th {\n",
       "        vertical-align: top;\n",
       "    }\n",
       "\n",
       "    .dataframe thead th {\n",
       "        text-align: right;\n",
       "    }\n",
       "</style>\n",
       "<table border=\"1\" class=\"dataframe\">\n",
       "  <thead>\n",
       "    <tr style=\"text-align: right;\">\n",
       "      <th></th>\n",
       "      <th>created_date</th>\n",
       "      <th>created_time</th>\n",
       "      <th>time_of_day</th>\n",
       "    </tr>\n",
       "  </thead>\n",
       "  <tbody>\n",
       "    <tr>\n",
       "      <th>0</th>\n",
       "      <td>5/6/2021</td>\n",
       "      <td>6:41:43</td>\n",
       "      <td>AM</td>\n",
       "    </tr>\n",
       "    <tr>\n",
       "      <th>1</th>\n",
       "      <td>5/6/2021</td>\n",
       "      <td>6:41:43</td>\n",
       "      <td>AM</td>\n",
       "    </tr>\n",
       "    <tr>\n",
       "      <th>2</th>\n",
       "      <td>5/6/2021</td>\n",
       "      <td>6:41:43</td>\n",
       "      <td>AM</td>\n",
       "    </tr>\n",
       "    <tr>\n",
       "      <th>3</th>\n",
       "      <td>5/6/2021</td>\n",
       "      <td>6:41:43</td>\n",
       "      <td>AM</td>\n",
       "    </tr>\n",
       "    <tr>\n",
       "      <th>4</th>\n",
       "      <td>5/6/2021</td>\n",
       "      <td>6:41:43</td>\n",
       "      <td>AM</td>\n",
       "    </tr>\n",
       "  </tbody>\n",
       "</table>\n",
       "</div>"
      ],
      "text/plain": [
       "  created_date created_time time_of_day\n",
       "0     5/6/2021      6:41:43          AM\n",
       "1     5/6/2021      6:41:43          AM\n",
       "2     5/6/2021      6:41:43          AM\n",
       "3     5/6/2021      6:41:43          AM\n",
       "4     5/6/2021      6:41:43          AM"
      ]
     },
     "execution_count": 11,
     "metadata": {},
     "output_type": "execute_result"
    }
   ],
   "source": [
    "created_logs = pd.DataFrame()\n",
    "created_logs = dll_logs.CreationTime.str.split(expand=True)\n",
    "created_logs = created_logs.rename(columns={0:'created_date', 1:'created_time', 2:'time_of_day'})\n",
    "created_logs.head()\n"
   ]
  },
  {
   "cell_type": "markdown",
   "id": "7501c442",
   "metadata": {
    "papermill": {
     "duration": 0.030555,
     "end_time": "2022-08-19T02:47:49.606227",
     "exception": false,
     "start_time": "2022-08-19T02:47:49.575672",
     "status": "completed"
    },
    "tags": []
   },
   "source": [
    "This will let us analyze the frequency for activity cycles"
   ]
  },
  {
   "cell_type": "code",
   "execution_count": 12,
   "id": "f7ab6ecc",
   "metadata": {
    "execution": {
     "iopub.execute_input": "2022-08-19T02:47:49.678804Z",
     "iopub.status.busy": "2022-08-19T02:47:49.678050Z",
     "iopub.status.idle": "2022-08-19T02:47:49.725400Z",
     "shell.execute_reply": "2022-08-19T02:47:49.725925Z",
     "shell.execute_reply.started": "2022-08-19T02:44:16.053310Z"
    },
    "papermill": {
     "duration": 0.089093,
     "end_time": "2022-08-19T02:47:49.726103",
     "exception": false,
     "start_time": "2022-08-19T02:47:49.637010",
     "status": "completed"
    },
    "tags": []
   },
   "outputs": [
    {
     "data": {
      "text/html": [
       "<div>\n",
       "<style scoped>\n",
       "    .dataframe tbody tr th:only-of-type {\n",
       "        vertical-align: middle;\n",
       "    }\n",
       "\n",
       "    .dataframe tbody tr th {\n",
       "        vertical-align: top;\n",
       "    }\n",
       "\n",
       "    .dataframe thead th {\n",
       "        text-align: right;\n",
       "    }\n",
       "</style>\n",
       "<table border=\"1\" class=\"dataframe\">\n",
       "  <thead>\n",
       "    <tr style=\"text-align: right;\">\n",
       "      <th></th>\n",
       "      <th>created_date</th>\n",
       "    </tr>\n",
       "  </thead>\n",
       "  <tbody>\n",
       "    <tr>\n",
       "      <th>0</th>\n",
       "      <td>2021-05-06</td>\n",
       "    </tr>\n",
       "    <tr>\n",
       "      <th>1</th>\n",
       "      <td>2021-05-06</td>\n",
       "    </tr>\n",
       "    <tr>\n",
       "      <th>2</th>\n",
       "      <td>2021-05-06</td>\n",
       "    </tr>\n",
       "    <tr>\n",
       "      <th>3</th>\n",
       "      <td>2021-05-06</td>\n",
       "    </tr>\n",
       "    <tr>\n",
       "      <th>4</th>\n",
       "      <td>2021-05-06</td>\n",
       "    </tr>\n",
       "  </tbody>\n",
       "</table>\n",
       "</div>"
      ],
      "text/plain": [
       "  created_date\n",
       "0   2021-05-06\n",
       "1   2021-05-06\n",
       "2   2021-05-06\n",
       "3   2021-05-06\n",
       "4   2021-05-06"
      ]
     },
     "execution_count": 12,
     "metadata": {},
     "output_type": "execute_result"
    }
   ],
   "source": [
    "\n",
    "created_freq = pd.DataFrame(pd.to_datetime(created_logs[\"created_date\"]))\n",
    "\n",
    "\n",
    "created_freq.head()"
   ]
  },
  {
   "cell_type": "code",
   "execution_count": 13,
   "id": "69abe057",
   "metadata": {
    "execution": {
     "iopub.execute_input": "2022-08-19T02:47:49.795103Z",
     "iopub.status.busy": "2022-08-19T02:47:49.794331Z",
     "iopub.status.idle": "2022-08-19T02:47:50.067702Z",
     "shell.execute_reply": "2022-08-19T02:47:50.067167Z",
     "shell.execute_reply.started": "2022-08-19T02:44:16.056175Z"
    },
    "papermill": {
     "duration": 0.308764,
     "end_time": "2022-08-19T02:47:50.067853",
     "exception": false,
     "start_time": "2022-08-19T02:47:49.759089",
     "status": "completed"
    },
    "tags": []
   },
   "outputs": [
    {
     "data": {
      "text/plain": [
       "<AxesSubplot:xlabel='created_date'>"
      ]
     },
     "execution_count": 13,
     "metadata": {},
     "output_type": "execute_result"
    },
    {
     "data": {
      "image/png": "[encoded data removed]",
      "text/plain": [
       "<Figure size 432x288 with 1 Axes>"
      ]
     },
     "metadata": {
      "needs_background": "light"
     },
     "output_type": "display_data"
    }
   ],
   "source": [
    "created_frequencies = created_freq.groupby('created_date').created_date.count()\n",
    "created_frequencies.plot()\n",
    "\n"
   ]
  },
  {
   "cell_type": "code",
   "execution_count": 14,
   "id": "8c6df0e7",
   "metadata": {
    "execution": {
     "iopub.execute_input": "2022-08-19T02:47:50.136401Z",
     "iopub.status.busy": "2022-08-19T02:47:50.135776Z",
     "iopub.status.idle": "2022-08-19T02:47:50.142757Z",
     "shell.execute_reply": "2022-08-19T02:47:50.143371Z",
     "shell.execute_reply.started": "2022-08-19T02:44:16.059048Z"
    },
    "papermill": {
     "duration": 0.042848,
     "end_time": "2022-08-19T02:47:50.143557",
     "exception": false,
     "start_time": "2022-08-19T02:47:50.100709",
     "status": "completed"
    },
    "tags": []
   },
   "outputs": [
    {
     "data": {
      "text/plain": [
       "created_date\n",
       "1979-12-31      28\n",
       "2002-02-01      21\n",
       "2009-08-31       1\n",
       "2010-03-18     251\n",
       "2011-02-09       2\n",
       "              ... \n",
       "2022-02-08      41\n",
       "2022-02-09     115\n",
       "2022-02-11    1308\n",
       "2022-02-12      95\n",
       "2022-02-17      88\n",
       "Name: created_date, Length: 355, dtype: int64"
      ]
     },
     "execution_count": 14,
     "metadata": {},
     "output_type": "execute_result"
    }
   ],
   "source": [
    "created_frequencies"
   ]
  },
  {
   "cell_type": "code",
   "execution_count": 15,
   "id": "39a94340",
   "metadata": {
    "execution": {
     "iopub.execute_input": "2022-08-19T02:47:50.212375Z",
     "iopub.status.busy": "2022-08-19T02:47:50.211735Z",
     "iopub.status.idle": "2022-08-19T02:47:50.323581Z",
     "shell.execute_reply": "2022-08-19T02:47:50.324038Z",
     "shell.execute_reply.started": "2022-08-19T02:44:16.061236Z"
    },
    "papermill": {
     "duration": 0.147672,
     "end_time": "2022-08-19T02:47:50.324221",
     "exception": false,
     "start_time": "2022-08-19T02:47:50.176549",
     "status": "completed"
    },
    "tags": []
   },
   "outputs": [
    {
     "data": {
      "text/html": [
       "<div>\n",
       "<style scoped>\n",
       "    .dataframe tbody tr th:only-of-type {\n",
       "        vertical-align: middle;\n",
       "    }\n",
       "\n",
       "    .dataframe tbody tr th {\n",
       "        vertical-align: top;\n",
       "    }\n",
       "\n",
       "    .dataframe thead th {\n",
       "        text-align: right;\n",
       "    }\n",
       "</style>\n",
       "<table border=\"1\" class=\"dataframe\">\n",
       "  <thead>\n",
       "    <tr style=\"text-align: right;\">\n",
       "      <th></th>\n",
       "      <th>last_date</th>\n",
       "      <th>last_time</th>\n",
       "      <th>time_of_day</th>\n",
       "    </tr>\n",
       "  </thead>\n",
       "  <tbody>\n",
       "    <tr>\n",
       "      <th>0</th>\n",
       "      <td>5/6/2021</td>\n",
       "      <td>6:41:43</td>\n",
       "      <td>AM</td>\n",
       "    </tr>\n",
       "    <tr>\n",
       "      <th>1</th>\n",
       "      <td>5/6/2021</td>\n",
       "      <td>6:41:43</td>\n",
       "      <td>AM</td>\n",
       "    </tr>\n",
       "    <tr>\n",
       "      <th>2</th>\n",
       "      <td>4/21/2021</td>\n",
       "      <td>9:04:53</td>\n",
       "      <td>PM</td>\n",
       "    </tr>\n",
       "    <tr>\n",
       "      <th>3</th>\n",
       "      <td>4/21/2021</td>\n",
       "      <td>9:04:53</td>\n",
       "      <td>PM</td>\n",
       "    </tr>\n",
       "    <tr>\n",
       "      <th>4</th>\n",
       "      <td>4/21/2021</td>\n",
       "      <td>9:04:53</td>\n",
       "      <td>PM</td>\n",
       "    </tr>\n",
       "  </tbody>\n",
       "</table>\n",
       "</div>"
      ],
      "text/plain": [
       "   last_date last_time time_of_day\n",
       "0   5/6/2021   6:41:43          AM\n",
       "1   5/6/2021   6:41:43          AM\n",
       "2  4/21/2021   9:04:53          PM\n",
       "3  4/21/2021   9:04:53          PM\n",
       "4  4/21/2021   9:04:53          PM"
      ]
     },
     "execution_count": 15,
     "metadata": {},
     "output_type": "execute_result"
    }
   ],
   "source": [
    "last_logs = pd.DataFrame()\n",
    "last_logs = dll_logs.LastWriteTime.str.split(expand=True)\n",
    "last_logs = last_logs.rename(columns={0:'last_date', 1:'last_time', 2:'time_of_day'})\n",
    "last_logs.head()"
   ]
  },
  {
   "cell_type": "code",
   "execution_count": 16,
   "id": "3f3ced5b",
   "metadata": {
    "execution": {
     "iopub.execute_input": "2022-08-19T02:47:50.395779Z",
     "iopub.status.busy": "2022-08-19T02:47:50.395100Z",
     "iopub.status.idle": "2022-08-19T02:47:50.444638Z",
     "shell.execute_reply": "2022-08-19T02:47:50.444119Z",
     "shell.execute_reply.started": "2022-08-19T02:44:16.063620Z"
    },
    "papermill": {
     "duration": 0.087062,
     "end_time": "2022-08-19T02:47:50.444786",
     "exception": false,
     "start_time": "2022-08-19T02:47:50.357724",
     "status": "completed"
    },
    "tags": []
   },
   "outputs": [
    {
     "data": {
      "text/html": [
       "<div>\n",
       "<style scoped>\n",
       "    .dataframe tbody tr th:only-of-type {\n",
       "        vertical-align: middle;\n",
       "    }\n",
       "\n",
       "    .dataframe tbody tr th {\n",
       "        vertical-align: top;\n",
       "    }\n",
       "\n",
       "    .dataframe thead th {\n",
       "        text-align: right;\n",
       "    }\n",
       "</style>\n",
       "<table border=\"1\" class=\"dataframe\">\n",
       "  <thead>\n",
       "    <tr style=\"text-align: right;\">\n",
       "      <th></th>\n",
       "      <th>last_date</th>\n",
       "    </tr>\n",
       "  </thead>\n",
       "  <tbody>\n",
       "    <tr>\n",
       "      <th>0</th>\n",
       "      <td>2021-05-06</td>\n",
       "    </tr>\n",
       "    <tr>\n",
       "      <th>1</th>\n",
       "      <td>2021-05-06</td>\n",
       "    </tr>\n",
       "    <tr>\n",
       "      <th>2</th>\n",
       "      <td>2021-04-21</td>\n",
       "    </tr>\n",
       "    <tr>\n",
       "      <th>3</th>\n",
       "      <td>2021-04-21</td>\n",
       "    </tr>\n",
       "    <tr>\n",
       "      <th>4</th>\n",
       "      <td>2021-04-21</td>\n",
       "    </tr>\n",
       "  </tbody>\n",
       "</table>\n",
       "</div>"
      ],
      "text/plain": [
       "   last_date\n",
       "0 2021-05-06\n",
       "1 2021-05-06\n",
       "2 2021-04-21\n",
       "3 2021-04-21\n",
       "4 2021-04-21"
      ]
     },
     "execution_count": 16,
     "metadata": {},
     "output_type": "execute_result"
    }
   ],
   "source": [
    "\n",
    "last_freq = pd.DataFrame(pd.to_datetime(last_logs[\"last_date\"]))\n",
    "\n",
    "\n",
    "last_freq.head()"
   ]
  },
  {
   "cell_type": "code",
   "execution_count": 17,
   "id": "cd9ecd95",
   "metadata": {
    "execution": {
     "iopub.execute_input": "2022-08-19T02:47:50.516614Z",
     "iopub.status.busy": "2022-08-19T02:47:50.515938Z",
     "iopub.status.idle": "2022-08-19T02:47:50.524623Z",
     "shell.execute_reply": "2022-08-19T02:47:50.525124Z",
     "shell.execute_reply.started": "2022-08-19T02:44:16.065959Z"
    },
    "papermill": {
     "duration": 0.04629,
     "end_time": "2022-08-19T02:47:50.525293",
     "exception": false,
     "start_time": "2022-08-19T02:47:50.479003",
     "status": "completed"
    },
    "tags": []
   },
   "outputs": [
    {
     "data": {
      "text/plain": [
       "last_date\n",
       "1979-12-31     28\n",
       "2002-02-01     21\n",
       "2009-08-31      1\n",
       "2010-03-18    251\n",
       "2011-02-09      2\n",
       "             ... \n",
       "2022-02-09    115\n",
       "2022-02-10     76\n",
       "2022-02-11    574\n",
       "2022-02-12     19\n",
       "2022-02-15     76\n",
       "Name: last_date, Length: 414, dtype: int64"
      ]
     },
     "execution_count": 17,
     "metadata": {},
     "output_type": "execute_result"
    }
   ],
   "source": [
    "last_frequencies = last_freq.groupby('last_date').last_date.count()\n",
    "last_frequencies\n",
    "\n"
   ]
  },
  {
   "cell_type": "code",
   "execution_count": 18,
   "id": "4cd3b7cb",
   "metadata": {
    "execution": {
     "iopub.execute_input": "2022-08-19T02:47:50.619284Z",
     "iopub.status.busy": "2022-08-19T02:47:50.616529Z",
     "iopub.status.idle": "2022-08-19T02:47:50.870521Z",
     "shell.execute_reply": "2022-08-19T02:47:50.869909Z",
     "shell.execute_reply.started": "2022-08-19T02:44:16.067765Z"
    },
    "papermill": {
     "duration": 0.310853,
     "end_time": "2022-08-19T02:47:50.870730",
     "exception": false,
     "start_time": "2022-08-19T02:47:50.559877",
     "status": "completed"
    },
    "tags": []
   },
   "outputs": [
    {
     "data": {
      "image/png": "[encoded data removed]",
      "text/plain": [
       "<Figure size 432x288 with 1 Axes>"
      ]
     },
     "metadata": {
      "needs_background": "light"
     },
     "output_type": "display_data"
    }
   ],
   "source": [
    "last_frequenciesBar = last_frequencies.plot()"
   ]
  }
 ],
 "metadata": {
  "kernelspec": {
   "display_name": "Python 3",
   "language": "python",
   "name": "python3"
  },
  "language_info": {
   "codemirror_mode": {
    "name": "ipython",
    "version": 3
   },
   "file_extension": ".py",
   "mimetype": "text/x-python",
   "name": "python",
   "nbconvert_exporter": "python",
   "pygments_lexer": "ipython3",
   "version": "3.7.12"
  },
  "papermill": {
   "default_parameters": {},
   "duration": 16.309863,
   "end_time": "2022-08-19T02:47:51.617064",
   "environment_variables": {},
   "exception": null,
   "input_path": "__notebook__.ipynb",
   "output_path": "__notebook__.ipynb",
   "parameters": {},
   "start_time": "2022-08-19T02:47:35.307201",
   "version": "2.3.3"
  }
 },
 "nbformat": 4,
 "nbformat_minor": 5
}
